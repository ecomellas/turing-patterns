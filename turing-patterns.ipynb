{
  "nbformat": 4,
  "nbformat_minor": 0,
  "metadata": {
    "kernelspec": {
      "display_name": "Python 3",
      "language": "python",
      "name": "python3"
    },
    "language_info": {
      "codemirror_mode": {
        "name": "ipython",
        "version": 3
      },
      "file_extension": ".py",
      "mimetype": "text/x-python",
      "name": "python",
      "nbconvert_exporter": "python",
      "pygments_lexer": "ipython3",
      "version": "3.4.3"
    },
    "colab": {
      "name": "turing-patterns.ipynb",
      "provenance": [],
      "include_colab_link": true
    }
  },
  "cells": [
    {
      "cell_type": "markdown",
      "metadata": {
        "id": "view-in-github",
        "colab_type": "text"
      },
      "source": [
        "<a href=\"https://colab.research.google.com/github/ecomellas/turing-patterns/blob/run-on-colaboratory/turing-patterns.ipynb\" target=\"_parent\"><img src=\"https://colab.research.google.com/assets/colab-badge.svg\" alt=\"Open In Colab\"/></a>"
      ]
    },
    {
      "cell_type": "markdown",
      "metadata": {
        "id": "5DqCQ97tiLbC",
        "colab_type": "text"
      },
      "source": [
        "\n",
        "# Turing Patterns\n",
        "\n",
        "In 1952, [Turing](https://en.wikipedia.org/wiki/Alan_Turing) published a paper called [\"The Chemical Basis of Morphogenesis\"](http://www.dna.caltech.edu/courses/cs191/paperscs191/turing.pdf) suggesting a possible mechanism for how a simple set of chemical reactions could lead to the formation of stripes, spots and other patterns we see on animals. It is a surprisingly readable paper that covers some maths, some chemistry, some numerical modelling and ties it all together to try and answer a biological question. \n",
        "\n",
        "At the core of the paper are a set of partial differential equations known as [reaction-diffusion equations](https://en.wikipedia.org/wiki/Reaction%E2%80%93diffusion_system). Turing's analysis shows that in certain regimes systems that obey these equations are unstable to small perturbations, leading to the growth of large scale patterns.\n",
        "\n",
        "If you have only a basic understanding of chemistry (like I do) this might be surprising. Most chemical reactions I've seen involve homogeneous concentrations of reagents, reacting to create the final products, often described by a reaction equation like\n",
        "\n",
        "$A + B \\rightarrow C + D$\n",
        "\n",
        "In this simplified model there is no room for pattern formation, because haven't included any description about how concentrations of the different chemicals vary in space. Once we take into account these differences, a much richer set of behaviours is possible.\n",
        "\n",
        "In this post, I am going explore the system described in the paper."
      ]
    },
    {
      "cell_type": "markdown",
      "metadata": {
        "id": "2ubdFa5NiLbE",
        "colab_type": "text"
      },
      "source": [
        "\n",
        "## Reaction Diffusion Equations\n",
        "\n",
        "Reaction-Diffusion equations are a class of partial differential equations whose dynamics are governed by two terms: a diffusion part and a reaction part. We will be looking at the two component case, which takes the form\n",
        "\n",
        "$\\frac{\\partial a(x,t)}{\\partial t} = D_{a}\\frac{\\partial^{2} a(x,t)}{\\partial x^{2}} + R_{a}(a(x,t),b(x,t))$\n",
        "\n",
        "$\\frac{\\partial b(x,t)}{\\partial t} = D_{b}\\frac{\\partial^{2} b(x,t)}{\\partial x^{2}} + R_{b}(a(x,t),b(x,t))$\n",
        "\n",
        "Where the $a(x,t)$ and $b(x,t)$ describe the concentration of chemicals $a$ and $b$ at position $x$ and time $t$. The functions $R_{a}$ and $R_{b}$ determine how the concentrations change due to interspecies reactions and $D_{a}$ and $D_{b}$ are the diffusion coefficients. "
      ]
    },
    {
      "cell_type": "markdown",
      "metadata": {
        "id": "Hf8KoQXViLbF",
        "colab_type": "text"
      },
      "source": [
        "### Diffusion\n",
        "\n",
        "The diffusion part of the equations causes areas of high concentration to spread out to areas of low concentration, while conserving the total amount of the chemical. To get a feel for what's happening, let's focus the equation\n",
        "\n",
        "$ \\frac{\\partial a(x,t)}{\\partial t} = D_{a}\\frac{\\partial^{2} a(x,t)}{\\partial x^{2}} $\n",
        "\n",
        "If this looks familiar, it is because it appears in a number of different areas of science and maths. A few are: the [diffusion equation](https://en.wikipedia.org/wiki/Diffusion_equation), the [heat equation](https://en.wikipedia.org/wiki/Heat_equation) and [Brownian motion](https://en.wikipedia.org/wiki/Brownian_motion). \n",
        "\n",
        "It has an analytic solution, which for initial Gaussian distribution is\n",
        "\n",
        "$ a(x,t) = \\frac{a_{0}}{\\sqrt{2\\pi(\\sigma_{0}^{2} + 2 D_{a} t)}} \\exp\\left(-\\frac{x^{2}}{2(\\sigma_{0}^{2} +  2 D_{a} t)}\\right)$\n",
        "\n",
        "A \"spreading out\", or diffusion over time, as the name suggests."
      ]
    },
    {
      "cell_type": "markdown",
      "metadata": {
        "id": "y4nNmnfTiLbG",
        "colab_type": "text"
      },
      "source": [
        "### Simulating equations\n",
        "\n",
        "If you've got this far, you might have noticed that this is written in a [jupyter notebook](http://jupyter.org/). This allows us to mix code with writing, so we don't just have to look at an equation to understand how it behaves - we can simulate it directly. \n",
        "\n",
        "To simulate the PDEs, I'm going to use the [explicit finite-difference method](https://en.wikipedia.org/wiki/Finite_difference_method#Example:_The_heat_equation). It is not the best numerical method to use, but it is easy to code, and provided we keep the time step small enough it will be stable. \n",
        "\n",
        "Under this scheme, we approximate the time derivative as\n",
        "\n",
        "$$\n",
        "\\frac{\\partial a(x,t)}{\\partial t} \\approx \\frac{1}{dt}(a_{x,t+1} - a_{x,t})\n",
        "$$\n",
        "\n",
        "And the spatial part of the derivative (which is usually know as the [Laplacian](https://en.wikipedia.org/wiki/Laplace_operator)) as\n",
        "\n",
        "$$\n",
        "\\frac{\\partial^{2} a(x,t)}{\\partial x^{2}} \\approx \\frac{1}{dx^{2}}(a_{x+1,t} + a_{x-1,t} - 2a_{x,t})\n",
        "$$\n",
        "\n",
        "Putting it all together, for the diffusion part of the equation we get.\n",
        "\n",
        "$$\n",
        "a_{x,t+1} = a_{x,t} + dt\\left(  \\frac{D_{a}}{dx^{2}}(a_{x+1,t} + a_{x-1,t} - 2a_{x,t})  \\right)\n",
        "$$\n",
        "\n",
        "Let's start by defining some functions to take care of the spatial derivatives. We will be using periodic boundary conditions throughout our exploration, which are easy to implement in numpy using its [roll](https://docs.scipy.org/doc/numpy-1.12.0/reference/generated/numpy.roll.html) function."
      ]
    },
    {
      "cell_type": "code",
      "metadata": {
        "id": "MJ5KMFC4iLbH",
        "colab_type": "code",
        "colab": {
          "base_uri": "https://localhost:8080/",
          "height": 51
        },
        "outputId": "811ad1fc-e706-47bf-e377-aa1d225ecde5"
      },
      "source": [
        "import matplotlib.pyplot as plt\n",
        "from matplotlib import animation\n",
        "import numpy as np\n",
        "\n",
        "# I'm using seaborn for it's fantastic default styles\n",
        "import seaborn as sns\n",
        "sns.set_style(\"whitegrid\")\n",
        "\n",
        "%matplotlib inline\n",
        "%load_ext autoreload\n",
        "%autoreload 2\n",
        "\n",
        "class BaseStateSystem:\n",
        "    \"\"\"\n",
        "    Base object for \"State System\".\n",
        "    We are going to repeatedly visualise systems which are Markovian:\n",
        "    they have a \"state\", the state evolves in discrete steps, and the next\n",
        "    state only depends on the previous state.\n",
        "    To make things simple, I'm going to use this class as an interface.\n",
        "    \"\"\"\n",
        "    def __init__(self):\n",
        "        raise NotImplementedError()\n",
        "\n",
        "    def initialise(self):\n",
        "        raise NotImplementedError()\n",
        "\n",
        "    def initialise_figure(self):\n",
        "        fig, ax = plt.subplots()\n",
        "        return fig, ax\n",
        "\n",
        "    def update(self):\n",
        "        raise NotImplementedError()\n",
        "\n",
        "    def draw(self, ax):\n",
        "        raise NotImplementedError()\n",
        "\n",
        "    def plot_time_evolution(self, filename, n_steps=30):\n",
        "        \"\"\"\n",
        "        Creates a gif from the time evolution of a basic state syste.\n",
        "        \"\"\"\n",
        "        self.initialise()\n",
        "        fig, ax = self.initialise_figure()\n",
        "\n",
        "        def step(t):\n",
        "            self.update()\n",
        "            self.draw(ax)\n",
        "\n",
        "        anim = animation.FuncAnimation(fig, step, frames=np.arange(n_steps), interval=20)\n",
        "        anim.save(filename=filename, dpi=60, fps=10, writer='imagemagick')\n",
        "        plt.close()\n",
        "        \n",
        "    def plot_evolution_outcome(self, filename, n_steps):\n",
        "        \"\"\"\n",
        "        Evolves and save the outcome of evolving the system for n_steps\n",
        "        \"\"\"\n",
        "        self.initialise()\n",
        "        fig, ax = self.initialise_figure()\n",
        "        \n",
        "        for _ in range(n_steps):\n",
        "            self.update()\n",
        "\n",
        "        self.draw(ax)\n",
        "        fig.savefig(filename)\n",
        "        plt.close()"
      ],
      "execution_count": 3,
      "outputs": [
        {
          "output_type": "stream",
          "text": [
            "The autoreload extension is already loaded. To reload it, use:\n",
            "  %reload_ext autoreload\n"
          ],
          "name": "stdout"
        }
      ]
    },
    {
      "cell_type": "code",
      "metadata": {
        "id": "NBhYgoOdiLbN",
        "colab_type": "code",
        "colab": {}
      },
      "source": [
        "def laplacian1D(a, dx):\n",
        "    return (\n",
        "        - 2 * a\n",
        "        + np.roll(a,1,axis=0) \n",
        "        + np.roll(a,-1,axis=0)\n",
        "    ) / (dx ** 2)\n",
        "\n",
        "def laplacian2D(a, dx):\n",
        "    return (\n",
        "        - 4 * a\n",
        "        + np.roll(a,1,axis=0) \n",
        "        + np.roll(a,-1,axis=0)\n",
        "        + np.roll(a,+1,axis=1)\n",
        "        + np.roll(a,-1,axis=1)\n",
        "    ) / (dx ** 2)"
      ],
      "execution_count": 0,
      "outputs": []
    },
    {
      "cell_type": "markdown",
      "metadata": {
        "id": "VtqQY9fciLbQ",
        "colab_type": "text"
      },
      "source": [
        "To aid in generating visualisations, I've written a base class which updates and plots a system based on some notion of state. There's nothing specific about the reaction diffusion equations encoded in it, so I'm not going to go into any detail about it. You can find the full code for it, along with this notebook on github [here](https://github.com/ijmbarr/turing-patterns). It uses [matplotlib's animation](http://matplotlib.org/api/animation_api.html) functionality to plot the output as a gif.\n",
        "\n",
        "All together we can simulate the effect of the diffusion equation:"
      ]
    },
    {
      "cell_type": "code",
      "metadata": {
        "id": "0mI1wwIniLbR",
        "colab_type": "code",
        "colab": {
          "base_uri": "https://localhost:8080/",
          "height": 1000
        },
        "outputId": "59eb601d-41da-4fb2-9601-b567fee946ed"
      },
      "source": [
        "class OneDimensionalDiffusionEquation(BaseStateSystem):\n",
        "    def __init__(self, D):\n",
        "        self.D = D\n",
        "        self.width = 1000\n",
        "        self.dx = 10 / self.width\n",
        "        self.dt = 0.9 * (self.dx ** 2) / (2 * D)\n",
        "        self.steps = int(5.0 / self.dt)\n",
        "        # Change final time in steps\n",
        "        \n",
        "    def initialise(self):\n",
        "        self.t = 0\n",
        "        self.X = np.linspace(-5,5,self.width)\n",
        "        self.a = np.exp(-self.X**2)\n",
        "        \n",
        "    def update(self):\n",
        "        for i in range(self.steps):\n",
        "            self.t += self.dt\n",
        "            self._update()\n",
        "\n",
        "            # Add if to plot only every 10000 steps\n",
        "            if i%10000 == 0:\n",
        "              fig, ax = plt.subplots() \n",
        "              self.draw(ax)\n",
        "              plt.show()\n",
        "\n",
        "    def _update(self):      \n",
        "        La = laplacian1D(self.a, self.dx)\n",
        "        delta_a = self.dt * (self.D * La)       \n",
        "        self.a += delta_a\n",
        "        \n",
        "    def draw(self, ax):\n",
        "        ax.clear()\n",
        "        ax.plot(self.X,self.a, color=\"r\")\n",
        "        ax.set_ylim(0,1)\n",
        "        ax.set_xlim(-5,5)\n",
        "        ax.set_title(\"t = {:.2f}\".format(self.t))\n",
        "    \n",
        "one_d_diffusion = OneDimensionalDiffusionEquation(D=1)\n",
        "\n",
        "# This doesn't work in Colaboratory:\n",
        "#one_d_diffusion.plot_time_evolution(\"diffusion.gif\")\n",
        "\n",
        "#Plot each time step directly.\n",
        "one_d_diffusion.initialise()\n",
        "one_d_diffusion.update()\n",
        "\n",
        "\n",
        "  "
      ],
      "execution_count": 18,
      "outputs": [
        {
          "output_type": "display_data",
          "data": {
            "image/png": "[encoded data removed]",
            "text/plain": [
              "<Figure size 432x288 with 1 Axes>"
            ]
          },
          "metadata": {
            "tags": [],
            "needs_background": "light"
          }
        },
        {
          "output_type": "display_data",
          "data": {
            "image/png": "[encoded data removed]",
            "text/plain": [
              "<Figure size 432x288 with 1 Axes>"
            ]
          },
          "metadata": {
            "tags": [],
            "needs_background": "light"
          }
        },
        {
          "output_type": "display_data",
          "data": {
            "image/png": "[encoded data removed]",
            "text/plain": [
              "<Figure size 432x288 with 1 Axes>"
            ]
          },
          "metadata": {
            "tags": [],
            "needs_background": "light"
          }
        },
        {
          "output_type": "display_data",
          "data": {
            "image/png": "[encoded data removed]",
            "text/plain": [
              "<Figure size 432x288 with 1 Axes>"
            ]
          },
          "metadata": {
            "tags": [],
            "needs_background": "light"
          }
        },
        {
          "output_type": "display_data",
          "data": {
            "image/png": "[encoded data removed]",
            "text/plain": [
              "<Figure size 432x288 with 1 Axes>"
            ]
          },
          "metadata": {
            "tags": [],
            "needs_background": "light"
          }
        },
        {
          "output_type": "display_data",
          "data": {
            "image/png": "[encoded data removed]",
            "text/plain": [
              "<Figure size 432x288 with 1 Axes>"
            ]
          },
          "metadata": {
            "tags": [],
            "needs_background": "light"
          }
        },
        {
          "output_type": "display_data",
          "data": {
            "image/png": "[encoded data removed]",
            "text/plain": [
              "<Figure size 432x288 with 1 Axes>"
            ]
          },
          "metadata": {
            "tags": [],
            "needs_background": "light"
          }
        }
      ]
    },
    {
      "cell_type": "markdown",
      "metadata": {
        "id": "r8riY0Hko6YE",
        "colab_type": "text"
      },
      "source": [
        ""
      ]
    },
    {
      "cell_type": "markdown",
      "metadata": {
        "id": "wnaADB_piLbT",
        "colab_type": "text"
      },
      "source": [
        "**Results from *Degenerate State*'s blog**\n",
        "\n",
        "![diffusion](http://www.degeneratestate.org/static/turing-patterns/diffusion.gif)\n",
        "\n",
        "As expected - the diffusion equation causes the the concentration to \"spread out\"."
      ]
    },
    {
      "cell_type": "markdown",
      "metadata": {
        "id": "nKYKxuRZiLbU",
        "colab_type": "text"
      },
      "source": [
        "### Reaction\n",
        "\n",
        "Interactions between the two chemical components are introduced via the functions $R_{a}$ and $R_{b}$. These functions only depend on the local concentration of each of the chemicals. Their exact form will depend on the chemicals involved, but it is possible to show that Turing patterns are observed for a whole class of different equations.\n",
        "\n",
        "The one thing we will require from these equations is that they reach a stable equilibrium when the concentrations of the chemicals involved are completely homogeneous. This means that there exists concentrations of $a$ and $b$ such that\n",
        "\n",
        "$R_a(a_{0}, b_{0}) = 0$\n",
        "\n",
        "$R_{b}(a_{0}, b_{0}) = 0$\n",
        "\n",
        "The fact that we require this to hold will make the later instability more suprising.\n",
        "\n",
        "For the reaction equations, I'm going to use the [FitzHugh–Nagumo equation](https://en.wikipedia.org/wiki/FitzHugh%E2%80%93Nagumo_model)\n",
        "\n",
        "$R_a(a, b) = a - a^{3} - b + \\alpha$\n",
        "\n",
        "$R_{b}(a, b) = \\beta (a - b)$\n",
        "\n",
        "Where $\\alpha$ and $\\beta$ are constants.\n",
        "\n",
        "Let's see how it behaves"
      ]
    },
    {
      "cell_type": "code",
      "metadata": {
        "id": "y5rPzNx2iLbU",
        "colab_type": "code",
        "colab": {}
      },
      "source": [
        "class ReactionEquation(BaseStateSystem):\n",
        "    def __init__(self, Ra, Rb):\n",
        "        self.Ra = Ra\n",
        "        self.Rb = Rb\n",
        "        self.dt = 0.01\n",
        "        self.steps = int(0.1 / self.dt)\n",
        "        \n",
        "    def initialise(self):\n",
        "        self.t = 0\n",
        "        self.a = 0.1\n",
        "        self.b = 0.7\n",
        "        self.Ya = []\n",
        "        self.Yb = []\n",
        "        self.X = []\n",
        "        \n",
        "    def update(self):\n",
        "        for _ in range(self.steps):\n",
        "            self.t += self.dt\n",
        "            self._update()\n",
        "\n",
        "    def _update(self):      \n",
        "        delta_a = self.dt * self.Ra(self.a,self.b)      \n",
        "        delta_b = self.dt * self.Rb(self.a,self.b)      \n",
        "\n",
        "        self.a += delta_a\n",
        "        self.b += delta_b\n",
        "        \n",
        "    def draw(self, ax):\n",
        "        ax.clear()\n",
        "        \n",
        "        self.X.append(self.t)\n",
        "        self.Ya.append(self.a)\n",
        "        self.Yb.append(self.b)\n",
        "\n",
        "        ax.plot(self.X,self.Ya, color=\"r\", label=\"A\")\n",
        "        ax.plot(self.X,self.Yb, color=\"b\", label=\"B\")\n",
        "        ax.legend()\n",
        "        \n",
        "        ax.set_ylim(0,1)\n",
        "        ax.set_xlim(0,5)\n",
        "        ax.set_xlabel(\"t\")\n",
        "        ax.set_ylabel(\"Concentrations\")\n",
        "        \n",
        "alpha, beta =  0.2, 5\n",
        "\n",
        "def Ra(a,b): return a - a ** 3 - b + alpha\n",
        "def Rb(a,b): return (a - b) * beta\n",
        "    \n",
        "one_d_reaction = ReactionEquation(Ra, Rb)\n",
        "one_d_reaction.plot_time_evolution(\"reaction.gif\", n_steps=50)"
      ],
      "execution_count": 0,
      "outputs": []
    },
    {
      "cell_type": "markdown",
      "metadata": {
        "id": "VAV7lVnYiLbW",
        "colab_type": "text"
      },
      "source": [
        "**Results from *Degenerate State*'s blog**\n",
        "\n",
        "![reaction](http://www.degeneratestate.org/static/turing-patterns/reaction.gif)\n",
        "\n",
        "The system is stable, and stabilises to $a = b = \\sqrt[3]{\\alpha}$."
      ]
    },
    {
      "cell_type": "markdown",
      "metadata": {
        "id": "qf_Ldv06iLbW",
        "colab_type": "text"
      },
      "source": [
        "## Full Model\n",
        "\n",
        "We now have two parts to the reaction diffusion equation: a diffusion term that \"spreads\" out concentration and a reaction part the equalises the two concentrations. It feels like these two together should create a stable system, so it is surprising that we can end up with patterns.\n",
        "\n",
        "But enough with the preliminaries, let's take a look at some of the patterns formed. "
      ]
    },
    {
      "cell_type": "code",
      "metadata": {
        "id": "jG2lym9jiLbX",
        "colab_type": "code",
        "colab": {
          "base_uri": "https://localhost:8080/",
          "height": 613
        },
        "outputId": "2a7590c6-c145-4d20-8614-215181880a29"
      },
      "source": [
        "def random_initialiser(shape):\n",
        "    return(\n",
        "        np.random.normal(loc=0, scale=0.05, size=shape),\n",
        "        np.random.normal(loc=0, scale=0.05, size=shape)\n",
        "    )\n",
        "\n",
        "class OneDimensionalRDEquations(BaseStateSystem):\n",
        "    def __init__(self, Da, Db, Ra, Rb,\n",
        "                 initialiser=random_initialiser,\n",
        "                 width=1000, dx=1, \n",
        "                 dt=0.1, steps=1):\n",
        "        \n",
        "        self.Da = Da\n",
        "        self.Db = Db\n",
        "        self.Ra = Ra\n",
        "        self.Rb = Rb\n",
        "        \n",
        "        self.initialiser = initialiser\n",
        "        self.width = width\n",
        "        self.dx = dx\n",
        "        self.dt = dt\n",
        "        self.steps = steps\n",
        "        \n",
        "    def initialise(self):\n",
        "        self.t = 0\n",
        "        self.a, self.b = self.initialiser(self.width)\n",
        "        \n",
        "    def update(self):\n",
        "        for _ in range(self.steps):\n",
        "            self.t += self.dt\n",
        "            self._update()\n",
        "\n",
        "    def _update(self):\n",
        "        \n",
        "        # unpack so we don't have to keep writing \"self\"\n",
        "        a,b,Da,Db,Ra,Rb,dt,dx = (\n",
        "            self.a, self.b,\n",
        "            self.Da, self.Db,\n",
        "            self.Ra, self.Rb,\n",
        "            self.dt, self.dx\n",
        "        )\n",
        "        \n",
        "        La = laplacian1D(a, dx)\n",
        "        Lb = laplacian1D(b, dx)\n",
        "        \n",
        "        delta_a = dt * (Da * La + Ra(a,b))\n",
        "        delta_b = dt * (Db * Lb + Rb(a,b))\n",
        "        \n",
        "        self.a += delta_a\n",
        "        self.b += delta_b\n",
        "        \n",
        "    def draw(self, ax):\n",
        "        ax.clear()\n",
        "        ax.plot(self.a, color=\"r\", label=\"A\")\n",
        "        ax.plot(self.b, color=\"b\", label=\"B\")\n",
        "        ax.legend()\n",
        "        ax.set_ylim(-1,1)\n",
        "        ax.set_title(\"t = {:.2f}\".format(self.t))\n",
        "        \n",
        "Da, Db, alpha, beta = 1, 100, -0.005, 10\n",
        "\n",
        "def Ra(a,b): return a - a ** 3 - b + alpha\n",
        "def Rb(a,b): return (a - b) * beta\n",
        "\n",
        "width = 100\n",
        "dx = 1\n",
        "dt = 0.001\n",
        "\n",
        "OneDimensionalRDEquations(\n",
        "    Da, Db, Ra, Rb, \n",
        "    width=width, dx=dx, dt=dt, \n",
        "    steps=100\n",
        ").plot_time_evolution(\"1dRD.gif\", n_steps=150)"
      ],
      "execution_count": 2,
      "outputs": [
        {
          "output_type": "error",
          "ename": "TypeError",
          "evalue": "ignored",
          "traceback": [
            "\u001b[0;31m---------------------------------------------------------------------------\u001b[0m",
            "\u001b[0;31mTypeError\u001b[0m                                 Traceback (most recent call last)",
            "\u001b[0;32m<ipython-input-2-cfaeff4dfe9d>\u001b[0m in \u001b[0;36m<module>\u001b[0;34m()\u001b[0m\n\u001b[1;32m     71\u001b[0m     \u001b[0mwidth\u001b[0m\u001b[0;34m=\u001b[0m\u001b[0mwidth\u001b[0m\u001b[0;34m,\u001b[0m \u001b[0mdx\u001b[0m\u001b[0;34m=\u001b[0m\u001b[0mdx\u001b[0m\u001b[0;34m,\u001b[0m \u001b[0mdt\u001b[0m\u001b[0;34m=\u001b[0m\u001b[0mdt\u001b[0m\u001b[0;34m,\u001b[0m\u001b[0;34m\u001b[0m\u001b[0;34m\u001b[0m\u001b[0m\n\u001b[1;32m     72\u001b[0m     \u001b[0msteps\u001b[0m\u001b[0;34m=\u001b[0m\u001b[0;36m100\u001b[0m\u001b[0;34m\u001b[0m\u001b[0;34m\u001b[0m\u001b[0m\n\u001b[0;32m---> 73\u001b[0;31m ).plot_time_evolution(\"1dRD.gif\", n_steps=150)\n\u001b[0m",
            "\u001b[0;32m<ipython-input-1-87be40f3b5d3>\u001b[0m in \u001b[0;36mplot_time_evolution\u001b[0;34m(self, filename, n_steps)\u001b[0m\n\u001b[1;32m     47\u001b[0m \u001b[0;34m\u001b[0m\u001b[0m\n\u001b[1;32m     48\u001b[0m         \u001b[0manim\u001b[0m \u001b[0;34m=\u001b[0m \u001b[0manimation\u001b[0m\u001b[0;34m.\u001b[0m\u001b[0mFuncAnimation\u001b[0m\u001b[0;34m(\u001b[0m\u001b[0mfig\u001b[0m\u001b[0;34m,\u001b[0m \u001b[0mstep\u001b[0m\u001b[0;34m,\u001b[0m \u001b[0mframes\u001b[0m\u001b[0;34m=\u001b[0m\u001b[0mnp\u001b[0m\u001b[0;34m.\u001b[0m\u001b[0marange\u001b[0m\u001b[0;34m(\u001b[0m\u001b[0mn_steps\u001b[0m\u001b[0;34m)\u001b[0m\u001b[0;34m,\u001b[0m \u001b[0minterval\u001b[0m\u001b[0;34m=\u001b[0m\u001b[0;36m20\u001b[0m\u001b[0;34m)\u001b[0m\u001b[0;34m\u001b[0m\u001b[0;34m\u001b[0m\u001b[0m\n\u001b[0;32m---> 49\u001b[0;31m         \u001b[0manim\u001b[0m\u001b[0;34m.\u001b[0m\u001b[0msave\u001b[0m\u001b[0;34m(\u001b[0m\u001b[0mfilename\u001b[0m\u001b[0;34m=\u001b[0m\u001b[0mfilename\u001b[0m\u001b[0;34m,\u001b[0m \u001b[0mdpi\u001b[0m\u001b[0;34m=\u001b[0m\u001b[0;36m60\u001b[0m\u001b[0;34m,\u001b[0m \u001b[0mfps\u001b[0m\u001b[0;34m=\u001b[0m\u001b[0;36m10\u001b[0m\u001b[0;34m,\u001b[0m \u001b[0mwriter\u001b[0m\u001b[0;34m=\u001b[0m\u001b[0;34m'imagemagick'\u001b[0m\u001b[0;34m)\u001b[0m\u001b[0;34m\u001b[0m\u001b[0;34m\u001b[0m\u001b[0m\n\u001b[0m\u001b[1;32m     50\u001b[0m         \u001b[0;31m#plt.close()\u001b[0m\u001b[0;34m\u001b[0m\u001b[0;34m\u001b[0m\u001b[0;34m\u001b[0m\u001b[0m\n\u001b[1;32m     51\u001b[0m \u001b[0;34m\u001b[0m\u001b[0m\n",
            "\u001b[0;32m/usr/local/lib/python3.6/dist-packages/matplotlib/animation.py\u001b[0m in \u001b[0;36msave\u001b[0;34m(self, filename, writer, fps, dpi, codec, bitrate, extra_args, metadata, extra_anim, savefig_kwargs, progress_callback)\u001b[0m\n\u001b[1;32m   1100\u001b[0m                                          metadata=metadata)\n\u001b[1;32m   1101\u001b[0m             \u001b[0;32melse\u001b[0m\u001b[0;34m:\u001b[0m\u001b[0;34m\u001b[0m\u001b[0;34m\u001b[0m\u001b[0m\n\u001b[0;32m-> 1102\u001b[0;31m                 \u001b[0malt_writer\u001b[0m \u001b[0;34m=\u001b[0m \u001b[0mnext\u001b[0m\u001b[0;34m(\u001b[0m\u001b[0mwriters\u001b[0m\u001b[0;34m,\u001b[0m \u001b[0;32mNone\u001b[0m\u001b[0;34m)\u001b[0m\u001b[0;34m\u001b[0m\u001b[0;34m\u001b[0m\u001b[0m\n\u001b[0m\u001b[1;32m   1103\u001b[0m                 \u001b[0;32mif\u001b[0m \u001b[0malt_writer\u001b[0m \u001b[0;32mis\u001b[0m \u001b[0;32mNone\u001b[0m\u001b[0;34m:\u001b[0m\u001b[0;34m\u001b[0m\u001b[0;34m\u001b[0m\u001b[0m\n\u001b[1;32m   1104\u001b[0m                     raise ValueError(\"Cannot save animation: no writers are \"\n",
            "\u001b[0;31mTypeError\u001b[0m: 'MovieWriterRegistry' object is not an iterator"
          ]
        },
        {
          "output_type": "display_data",
          "data": {
            "image/png": "[encoded data removed]",
            "text/plain": [
              "<Figure size 432x288 with 1 Axes>"
            ]
          },
          "metadata": {
            "tags": [],
            "needs_background": "light"
          }
        }
      ]
    },
    {
      "cell_type": "markdown",
      "metadata": {
        "id": "giYrYNTJiLbZ",
        "colab_type": "text"
      },
      "source": [
        "**Results from *Degenerate State*'s blog**\n",
        "\n",
        "![reaction](http://www.degeneratestate.org/static/turing-patterns/1dRD.gif)\n",
        "\n",
        "A pattern of stripes.\n",
        "\n",
        "We can see that same behavior in two dimensions:"
      ]
    },
    {
      "cell_type": "code",
      "metadata": {
        "id": "0rr14jGNiLbZ",
        "colab_type": "code",
        "colab": {}
      },
      "source": [
        "class TwoDimensionalRDEquations(BaseStateSystem):\n",
        "    def __init__(self, Da, Db, Ra, Rb,\n",
        "                 initialiser=random_initialiser,\n",
        "                 width=1000, height=1000,\n",
        "                 dx=1, dt=0.1, steps=1):\n",
        "        \n",
        "        self.Da = Da\n",
        "        self.Db = Db\n",
        "        self.Ra = Ra\n",
        "        self.Rb = Rb\n",
        "\n",
        "        self.initialiser = initialiser\n",
        "        self.width = width\n",
        "        self.height = height\n",
        "        self.shape = (width, height)\n",
        "        self.dx = dx\n",
        "        self.dt = dt\n",
        "        self.steps = steps\n",
        "        \n",
        "    def initialise(self):\n",
        "        self.t = 0\n",
        "        self.a, self.b = self.initialiser(self.shape)\n",
        "        \n",
        "    def update(self):\n",
        "        for _ in range(self.steps):\n",
        "            self.t += self.dt\n",
        "            self._update()\n",
        "\n",
        "    def _update(self):\n",
        "        \n",
        "        # unpack so we don't have to keep writing \"self\"\n",
        "        a,b,Da,Db,Ra,Rb,dt,dx = (\n",
        "            self.a, self.b,\n",
        "            self.Da, self.Db,\n",
        "            self.Ra, self.Rb,\n",
        "            self.dt, self.dx\n",
        "        )\n",
        "        \n",
        "        La = laplacian2D(a, dx)\n",
        "        Lb = laplacian2D(b, dx)\n",
        "        \n",
        "        delta_a = dt * (Da * La + Ra(a,b))\n",
        "        delta_b = dt * (Db * Lb + Rb(a,b))\n",
        "        \n",
        "        self.a += delta_a\n",
        "        self.b += delta_b\n",
        "        \n",
        "    def draw(self, ax):\n",
        "        ax[0].clear()\n",
        "        ax[1].clear()\n",
        "\n",
        "        ax[0].imshow(self.a, cmap='jet')\n",
        "        ax[1].imshow(self.b, cmap='brg')\n",
        "        \n",
        "        ax[0].grid(b=False)\n",
        "        ax[1].grid(b=False)\n",
        "        \n",
        "        ax[0].set_title(\"A, t = {:.2f}\".format(self.t))\n",
        "        ax[1].set_title(\"B, t = {:.2f}\".format(self.t))\n",
        "        \n",
        "    def initialise_figure(self):\n",
        "        fig, ax = plt.subplots(nrows=1, ncols=2, figsize=(12,6))\n",
        "        return fig, ax\n",
        "    \n",
        "Da, Db, alpha, beta = 1, 100, -0.005, 10\n",
        "\n",
        "def Ra(a,b): return a - a ** 3 - b + alpha\n",
        "def Rb(a,b): return (a - b) * beta\n",
        "\n",
        "width = 100\n",
        "dx = 1\n",
        "dt = 0.001\n",
        "\n",
        "TwoDimensionalRDEquations(\n",
        "    Da, Db, Ra, Rb, \n",
        "    width=width, height=width, \n",
        "    dx=dx, dt=dt, steps=100\n",
        ").plot_evolution_outcome(\"2dRD.png\", n_steps=150)"
      ],
      "execution_count": 0,
      "outputs": []
    },
    {
      "cell_type": "markdown",
      "metadata": {
        "id": "o7NLFBI3iLbb",
        "colab_type": "text"
      },
      "source": [
        "**Results from *Degenerate State*'s blog**\n",
        "\n",
        "\n",
        "[![reaction](http://www.degeneratestate.org/static/turing-patterns/2dRD.png)](http://www.degeneratestate.org/static/turing-patterns/2dRD.gif)\n",
        "\n",
        "(It is possible to animate the formation of these patterns using a similar method call as in the one-dimensional case above. The resulting gifs are quite impressive, but also large, so they are not directly included here. However, if you click on the image it will take you to the animation)\n",
        "\n",
        "It turns out this behaviour is common to a lot of reaction-diffusion equations, not just the ones presented here. \n",
        "\n",
        "So how does this happen? To understand, we are going to need to do some maths. "
      ]
    },
    {
      "cell_type": "markdown",
      "metadata": {
        "id": "b8jkIqI1iLbb",
        "colab_type": "text"
      },
      "source": [
        "## Stability Analysis\n",
        "\n",
        "Let's return to the original equations. We've seen that for certain conditions, pattern formations occurs.\n",
        "\n",
        "Unfortunately, solving the equations directly for non-linear reaction functions is often not possible. Instead we can look at what happens when the the system is perturbed slightly from equilibrium.\n",
        "\n",
        "### Linearising the Equations\n",
        "\n",
        "We start by assuming there is some concentrations, $a_{0}$ and $b_{0}$, for which the system is stable. This means that \n",
        " - $R_{a}(a_{0},b_{0}) = 0$\n",
        " - $R_{b}(a_{0},b_{0}) = 0$\n",
        " \n",
        "Around these solutions, we look at the time dependence of small perturbations around these values\n",
        " - $x = a - a_{0}$\n",
        " - $y = b - b_{0}$\n",
        " \n",
        "And linearise the reaction equations\n",
        " - $R_{a}(a,b) \\approx r_{aa}x + r_{ab}y$\n",
        " - $R_{b}(a,b) \\approx r_{ba}x + r_{bb}y$\n",
        " \n",
        "where $r_{ij} = \\frac{\\partial R_{i}}{\\partial j}$.\n",
        "\n",
        "These approximations give us a set of linear equations, written in vector form as\n",
        "\n",
        "$\\dot{\\mathbf{x}} = D\\nabla^{2} \\mathbf{x} + R \\mathbf{x}$\n",
        "\n",
        "Where $R = \\left(\\begin{matrix} r_{11} & r_{12} \\\\ r_{21} & r_{22}\\end{matrix}\\right)$ and $D = \\left(\\begin{matrix} D_{a} & 0 \\\\ 0 & D_{b}\\end{matrix}\\right)$\n",
        "\n",
        "### Fourier Transform\n",
        "If we impose periodic boundary conditions to this equation, a natural solution can be found by applying a [Fourier Transformation](https://acko.net/files/gltalks/toolsforthought/) to $\\mathbf{x}$. If we call the reciprocal coordinate $k$, and the Fourier transform of $\\mathbf{x}$ as $\\tilde{\\mathbf{x}}$, then the transformed equation is \n",
        "\n",
        "$\\dot{\\tilde{\\mathbf{x}}} = (R - k^{2}D) \\tilde{\\mathbf{x}}$\n",
        "\n",
        "Which, has solutions of the form\n",
        "\n",
        "$\\tilde{\\mathbf{x}}(t) = \\tilde{\\mathbf{x}}(0) e^{\\omega t}$\n",
        "\n",
        "To find $\\omega$ we plug this solution back into our transformed equation to get\n",
        "\n",
        "$\\omega \\tilde{\\mathbf{x}} = (R - k^{2}D) \\tilde{\\mathbf{x}}$\n",
        "\n",
        "Showing that $\\omega$ is just the eigenvalue of $(R - k^{2}D)$. \n",
        "\n",
        "### Stability\n",
        "\n",
        "We now have an equation for the time dependence of our system in the Fourier domain. Using it, we can now discuss what we mean by _stability_. Our system is considered stable if small perturbations around the homogeneous do not cause it to move further away from the stable solutions. \n",
        "\n",
        "In terms of our solution, $\\tilde{\\mathbf{x}}(0) e^{\\omega t}$, stability means that the values of $\\omega$ does not have positive real parts for all values of $k$. If $\\omega$ is negative, the perturbation will decay away. If $\\omega$ is imaginary, it will oscillate around the stable state. However, if it is positive and real _any_ small perturbation will grow exponentially, until a high order term of the reaction equation becomes important.\n",
        "\n",
        "To find $\\omega$, we need to solve the equation\n",
        "\n",
        "$\\hbox{Det}(R - k^{2}D - \\omega I) = 0 $\n",
        "\n",
        "Writing $J = R - k^{2}D$, this equitation takes the form\n",
        "\n",
        "$\\omega^{2} - \\omega\\hbox{Tr}(J) + \\hbox{Det}(J) = 0$\n",
        "\n",
        "Solving for $\\omega$, we get\n",
        "\n",
        "$\\omega = \\frac{1}{2}(\\hbox{Tr}(J) \\pm \\sqrt{\\hbox{Tr}(J)^{2} - 4 \\hbox{Det}(J) })$\n",
        "\n",
        "### Conditions for (in)Stability\n",
        "\n",
        "From our initial assumption that there was a stable homogeneous state, we require that $\\omega$ has negative real parts where $k = 0$, which corresponds to the spatially homogeneous solution. For this to be true, we require that \n",
        "\n",
        " - $\\hbox{Tr}(R) < 0$\n",
        " - $\\hbox{det}(R) > 0$\n",
        " \n",
        "Or, in terms of the components of $R$:\n",
        " - $r_{aa} + r_{bb} < 0$\n",
        " - $r_{aa}r_{bb} - r_{ab}r_{ba} > 0$\n",
        "\n",
        "For an instability to now occur at finite wavelength, we need one of the following conditions to hold:\n",
        " - $\\hbox{Tr}(J) > 0$\n",
        " - $\\hbox{det}(J) < 0$\n",
        "\n",
        "Because $\\hbox{Tr}(J) = \\hbox{Tr}(R) - k^{2}(d_{a} + d_{b})$, the first condition cannot hold for any real $k$. This means the we require the second to hold, or, after a bit of algebra\n",
        "\n",
        "$k^{4}d_{a}d_{b} - k^{2}(d_{a}r_{bb} + d_{b}r_{aa}) + (r_{aa}r_{bb} - r_{ab}r_{ba}) < 0$\n",
        "\n",
        "for some real value of $k$. Once again, we need to solve a quadratic equation. To do this we note that because $k$ needs to be real, $k^{2}$ must be positive. This means that at least one root of quadratic equation in $k^{2}$ needs to be positive and real. This condition is only met when \n",
        "\n",
        "$d_{b}r_{aa} + d_{a}r_{bb} > 2\\sqrt{d_{a}d_{b}(r_{aa}r_{bb} - r_{ab}r_{ba})} > 0$\n",
        "\n",
        "And that's it. We've derived that conditions for the diffusion-reaction equations to be stable to small perturbations. \n",
        "\n",
        "We can write the complete requirements as\n",
        "\n",
        "1. $r_{aa} + r_{bb} < 0$\n",
        "2. $r_{aa}r_{bb} - r_{ab}r_{ba} > 0$\n",
        "3. $d_{b}r_{aa} + d_{a}r_{bb} > 2\\sqrt{d_{a}d_{b}(r_{aa}r_{bb} - r_{ab}r_{ba})} > 0$"
      ]
    },
    {
      "cell_type": "markdown",
      "metadata": {
        "id": "nPUqC8MEiLbb",
        "colab_type": "text"
      },
      "source": [
        "### Discussion\n",
        "We've waded through a lot of maths to reach this point. Let's take stock of what we can make of the conditions for instability that we have derived. \n",
        "\n",
        "Given the diffusion coefficients are positive, from the first and third equation above, we know that $r_{aa}$ and $r_{bb}$ have to have different signs, and the component with the negative sign has to be larger. Combining this we the second equation we know that either $r_{ab}$ or $r_{ba}$ has to be negative, and the other has to be positive. This two facts show why some systems like this are called activator-inhibitor system: the presence of one component increase the production of itself - the other inhibits the production of both.\n",
        "\n",
        "With this information, the third equation shows us that the diffusion coefficients need to be different. Specifically, the diffusion coefficient of the inhibitor has to be larger then that of the activator.\n",
        "\n",
        "Together, this gives us a hand-waving explanation of what might be going on: Consider starting with a small increase in the activator at some point. This in turn creates an increase in the inhibitor at that point. Both of these chemical diffuse to nearby points, but the inhibitor diffuses faster, lowering the activator concentration of nearby points. This lowering of the activator concentration at nearby points, which in turn lowers the inhibitor concentration. The disturbance spreads out like a wave. \n",
        "\n",
        "It is a lot easier to get a feel for what's going on once we visualise the this perturbation:"
      ]
    },
    {
      "cell_type": "code",
      "metadata": {
        "id": "qgMrIoTPiLbc",
        "colab_type": "code",
        "colab": {}
      },
      "source": [
        "Da, Db, alpha, beta = 1, 100, -0.005, 10\n",
        "\n",
        "def Ra(a,b): return a - a ** 3 - b + alpha\n",
        "def Rb(a,b): return (a - b) * beta\n",
        "\n",
        "def initalise_bump(shape):\n",
        "    a  = np.zeros(shape)\n",
        "    if len(a.shape) == 1:\n",
        "        a[int(a.shape[0] / 2)] = 0.3\n",
        "    elif len(a.shape) == 2:\n",
        "        a[int(a.shape[0] / 2), int(a.shape[1] / 2)] = 0.3\n",
        "\n",
        "    return(\n",
        "        a,\n",
        "        np.zeros(shape)\n",
        "    )\n",
        "\n",
        "width = 100\n",
        "dx = 1\n",
        "dt = 0.001\n",
        "\n",
        "OneDimensionalRDEquations(\n",
        "    Da, Db, Ra, Rb, \n",
        "    initialiser=initalise_bump, \n",
        "    width=width, dx=dx, dt=dt, \n",
        "    steps=250\n",
        ").plot_time_evolution(\"1dRD_initial_bump.gif\", n_steps=150)"
      ],
      "execution_count": 0,
      "outputs": []
    },
    {
      "cell_type": "markdown",
      "metadata": {
        "id": "b-3aWd2miLbd",
        "colab_type": "text"
      },
      "source": [
        "**Results from *Degenerate State*'s blog**\n",
        "\n",
        "![reaction](http://www.degeneratestate.org/static/turing-patterns/1dRD_initial_bump.gif)"
      ]
    },
    {
      "cell_type": "markdown",
      "metadata": {
        "id": "F4TRfzF7iLbe",
        "colab_type": "text"
      },
      "source": [
        "### Exploring the Parameter Space\n",
        "\n",
        "It is interesting to ask how the parameters of the equations affect the pattern formation. To get a feel for what this dependence is, we can investigate the amplitude of the instability for different frequencies. Close to equilibrium, we expect the frequency with the largest real component to dominate the dynamics of the system.\n",
        "\n",
        "Calculating this value isn't mathematically difficult: we have an equation of the amplitude $\\omega$ in terms of the frequency $k$ above. Differentiating an equation of this size by hand can become tedious due to its size, and it is easy to introduce errors. And why carry out simple replacement steps when we have a computer to hand?\n",
        "\n",
        "In the following, I use the computer algebra system [sympy](http://www.sympy.org/en/index.html) to find the largest real mode of the system"
      ]
    },
    {
      "cell_type": "code",
      "metadata": {
        "id": "Omg68C0yiLbe",
        "colab_type": "code",
        "colab": {}
      },
      "source": [
        "import sympy as sp\n",
        "sp.init_printing()\n",
        "\n",
        "# define symbols\n",
        "a,b,alpha,beta = sp.symbols(\"a,b,alpha,beta\")\n",
        "Raa, Rab, Rba, Rbb = sp.symbols(\"Raa, Rab, Rba, Rbb\")\n",
        "Da, Db = sp.symbols(\"Da, Db\")\n",
        "k2 = sp.Symbol(\"k2\")\n",
        "\n",
        "# create matricies\n",
        "R = sp.Matrix(\n",
        "    [[Raa, Rab],\n",
        "     [Rba, Rbb]]\n",
        ")\n",
        "\n",
        "D = sp.Matrix(\n",
        "    [[Da, 0],\n",
        "     [0, Db]]\n",
        ")\n",
        "\n",
        "J = (R - k2 * D)\n",
        "\n",
        "# define our solution for omega\n",
        "omega = sp.Matrix.trace(J) + sp.sqrt(sp.Matrix.trace(J) ** 2 - 4 * sp.Matrix.det(J))\n",
        "omega"
      ],
      "execution_count": 0,
      "outputs": []
    },
    {
      "cell_type": "code",
      "metadata": {
        "id": "uqFa3oELiLbh",
        "colab_type": "code",
        "colab": {}
      },
      "source": [
        "# find the maximum value of omega for k^{2}\n",
        "omega_prime = sp.diff(omega, k2)\n",
        "sols = sp.solvers.solve(omega_prime, k2)\n",
        "max_k2 = sols[0]\n",
        "\n",
        "max_k2"
      ],
      "execution_count": 0,
      "outputs": []
    },
    {
      "cell_type": "code",
      "metadata": {
        "id": "D0bwHs-JiLbi",
        "colab_type": "code",
        "colab": {}
      },
      "source": [
        "def get_length_scale(al, be, da, db):\n",
        "\n",
        "    # rewritng in terms of Da, Db, alpha, beta\n",
        "    Ra = a - a**3 - b + alpha\n",
        "    Rb = beta * (a - b)\n",
        "\n",
        "    # we expand around the homogenius steady state\n",
        "    zero_subs = [\n",
        "        (a, sp.sign(alpha) * sp.cbrt(sp.Abs(alpha))),\n",
        "        (b, sp.sign(alpha) * sp.cbrt(sp.Abs(alpha)))\n",
        "    ]\n",
        "\n",
        "    # and linearise\n",
        "    R_prime_subs = {\n",
        "        (Raa, sp.diff(Ra, a)),\n",
        "        (Rab, sp.diff(Ra, b)),\n",
        "        (Rba, sp.diff(Rb, a)),\n",
        "        (Rbb, sp.diff(Rb, b))\n",
        "    }\n",
        "\n",
        "    # putting in our numeric values we get\n",
        "    vals = [\n",
        "        (alpha, al),\n",
        "        (beta, be),\n",
        "        (Da, da),\n",
        "        (Db, db)\n",
        "    ]\n",
        "\n",
        "    # substitute it all in to find the maximum k\n",
        "    max_k2 = [sp.N(\n",
        "        sol\n",
        "        .subs(R_prime_subs)\n",
        "        .subs(zero_subs)\n",
        "        .subs(vals)\n",
        "    ) for sol in sols]\n",
        "    \n",
        "    k2 = max(sp.re(sym) for sym in max_k2)\n",
        "    \n",
        "    # if k2 is negative, no real solution exists\n",
        "    if k2 <= 0:\n",
        "        return -1\n",
        "    \n",
        "    # convert k2 into length units\n",
        "    return sp.N(2 * sp.pi / sp.sqrt(k2))\n",
        "\n",
        "get_length_scale(-0.005, 10, 1, 100)"
      ],
      "execution_count": 0,
      "outputs": []
    },
    {
      "cell_type": "markdown",
      "metadata": {
        "id": "-rX_DgIPiLbk",
        "colab_type": "text"
      },
      "source": [
        "Which looks about right when we compare it to our simulations above - the spatial variation is about 14 length units.\n",
        "\n",
        "Let's use it to see how the length scale of the system changes as a function of $\\alpha$ and $\\beta$:"
      ]
    },
    {
      "cell_type": "code",
      "metadata": {
        "id": "RXxnsfjJiLbk",
        "colab_type": "code",
        "colab": {}
      },
      "source": [
        "betas = [(1 + i) * 0.125 for i in range(0,40)]\n",
        "alphas = [i * 0.05 for i in range(-20,20)]\n",
        "\n",
        "outcomes = np.zeros((len(betas), len(alphas)))\n",
        "\n",
        "for x,al in enumerate(alphas):\n",
        "    for y,be in enumerate(betas):\n",
        "        outcomes[y,x] = get_length_scale(al, be, 1, 100)\n",
        "\n",
        "\n",
        "plt.figure(figsize=(8,8))\n",
        "\n",
        "o = outcomes\n",
        "o[outcomes == 0] = -1\n",
        "\n",
        "plt.imshow(o, cmap=\"hsv\", interpolation=\"none\")\n",
        "plt.colorbar()\n",
        "\n",
        "plt.xticks(*zip(*[(n,l) for n,l in enumerate(alphas) if n % 5 == 0]), rotation=90)\n",
        "plt.yticks(*zip(*[(n,l) for n,l in enumerate(betas) if n % 5 == 0]), rotation=0)\n",
        "\n",
        "plt.title(\"Lengthscale\", fontsize=20)\n",
        "plt.xlabel(r\"$\\alpha$\", fontsize=18)\n",
        "plt.ylabel(r\"$\\beta$\", fontsize=18);"
      ],
      "execution_count": 0,
      "outputs": []
    },
    {
      "cell_type": "markdown",
      "metadata": {
        "id": "7zvrXhgHiLbm",
        "colab_type": "text"
      },
      "source": [
        "And take a look at the long length scale we should see when we use a low value of $\\beta$:"
      ]
    },
    {
      "cell_type": "code",
      "metadata": {
        "id": "hnHYBi-giLbm",
        "colab_type": "code",
        "colab": {}
      },
      "source": [
        "Da, Db, alpha, beta = 1, 100, 0.01, 0.25\n",
        "\n",
        "def Ra(a,b): return a - a ** 3 - b + alpha\n",
        "def Rb(a,b): return (a - b) * beta\n",
        "\n",
        "width = 200\n",
        "dx = 1\n",
        "dt = 0.001\n",
        "\n",
        "TwoDimensionalRDEquations(\n",
        "    Da, Db, Ra, Rb, \n",
        "    width=width, height=width, \n",
        "    dx=dx, dt=dt, steps=150\n",
        ").plot_evolution_outcome(\"2dRD_small_beta.png\", n_steps=100)"
      ],
      "execution_count": 0,
      "outputs": []
    },
    {
      "cell_type": "markdown",
      "metadata": {
        "id": "WnsIExLPiLbn",
        "colab_type": "text"
      },
      "source": [
        "**Results from *Degenerate State*'s blog**\n",
        "\n",
        "\n",
        "[![reaction](http://www.degeneratestate.org/static/turing-patterns/2dRD_small_beta.png)](http://www.degeneratestate.org/static/turing-patterns/2dRD_small_beta.gif)\n",
        "\n",
        "\n",
        "### Initial Conditions\n",
        "\n",
        "Adjusting the parameters gives us control over the length scale of the system. We can also gain some control over the system by adjusting the initial conditions of the system. For example, we can impose symmetries on the system by making the initial conditions symmetric:"
      ]
    },
    {
      "cell_type": "code",
      "metadata": {
        "id": "SreiNLZgiLbo",
        "colab_type": "code",
        "colab": {}
      },
      "source": [
        "from scipy.ndimage.interpolation import rotate\n",
        "\n",
        "def average_rotate(a, degree):\n",
        "    \"\"\"\n",
        "    Takes a 2d array a, and produces the average arrays,\n",
        "    having rotated it degree times. The resulting shape\n",
        "    has approximate degree-fold rotational symmetry.\n",
        "    \"\"\"\n",
        "    theta = 360 / degree\n",
        "\n",
        "    a = np.mean([rotate(a, theta * i, reshape=False) for i in range(degree)], axis=0)\n",
        "\n",
        "    return a\n",
        "\n",
        "\n",
        "def random_symmetric_initialiser(shape, degree):\n",
        "    \"\"\"\n",
        "    Random initialiser with degree-fold symmetry.\n",
        "    \"\"\"\n",
        "    \n",
        "    a = np.random.normal(loc=0, scale=0.05, size=shape)\n",
        "    b = np.random.normal(loc=0, scale=0.05, size=shape)\n",
        "\n",
        "    return (\n",
        "        average_rotate(a, degree), \n",
        "        average_rotate(b, degree)\n",
        "    )\n",
        "\n",
        "Da, Db, alpha, beta = 1, 100, 0.01, 1\n",
        "\n",
        "def Ra(a,b): return a - a ** 3 - b + alpha\n",
        "def Rb(a,b): return (a - b) * beta\n",
        "\n",
        "width = 200\n",
        "dx = 1\n",
        "dt = 0.001\n",
        "\n",
        "# three fold\n",
        "three_fold_initialiser = lambda shape: random_symmetric_initialiser(shape, 3)\n",
        "\n",
        "TwoDimensionalRDEquations(\n",
        "    Da, Db, Ra, Rb, \n",
        "    initialiser=three_fold_initialiser, \n",
        "    width=width, height=width, \n",
        "    dx=dx, dt=dt, steps=250\n",
        ").plot_evolution_outcome(\"2dRD_3_fold_sym.png\", n_steps=150)\n",
        "\n",
        "# five fold\n",
        "five_fold_initialiser = lambda shape: random_symmetric_initialiser(shape, 5)\n",
        "\n",
        "TwoDimensionalRDEquations(\n",
        "    Da, Db, Ra, Rb, \n",
        "    initialiser=five_fold_initialiser, \n",
        "    width=width, height=width, \n",
        "    dx=dx, dt=dt, steps=250\n",
        ").plot_evolution_outcome(\"2dRD_5_fold_sym.png\", n_steps=150)"
      ],
      "execution_count": 0,
      "outputs": []
    },
    {
      "cell_type": "markdown",
      "metadata": {
        "id": "nnkzCxHliLbp",
        "colab_type": "text"
      },
      "source": [
        "**Results from *Degenerate State*'s blog**\n",
        "\n",
        "Three fold rotational symmetry:\n",
        "\n",
        "![reaction](http://www.degeneratestate.org/static/turing-patterns/2dRD_3_fold_sym.png)\n",
        "\n",
        "Five fold rotational symmetry:\n",
        "\n",
        "![reaction](http://www.degeneratestate.org/static/turing-patterns/2dRD_5_fold_sym.png)\n",
        "\n",
        "The symmetry isn't perfect due to implementing it one a square grid, but it works quite well.\n",
        "\n",
        "### Spatial Effects\n",
        "\n",
        "Another interesting extension to these systems is to see what happens when we allow the parameters of the system to vary in space. In our implementation, this is just a matter of making the parameters a grid as well:"
      ]
    },
    {
      "cell_type": "code",
      "metadata": {
        "id": "JfAV1jmriLbp",
        "colab_type": "code",
        "colab": {}
      },
      "source": [
        "Da, Db, alpha, beta = 1, 100, 0.01, 10\n",
        "\n",
        "width = 200\n",
        "dx = 1\n",
        "dt = 0.001\n",
        "\n",
        "x,y = np.mgrid[0:width,0:width]\n",
        "beta = 0.1 + 5 * (1 + np.sin(2 * np.pi * y / 50)) * (1 + np.sin(2 * np.pi * x / 50))\n",
        "\n",
        "\n",
        "def Ra(a,b): return a - a ** 3 - b + alpha\n",
        "def Rb(a,b): return (a - b) * beta\n",
        "\n",
        "TwoDimensionalRDEquations(\n",
        "    Da, Db, Ra, Rb, \n",
        "    width=width, height=width, \n",
        "    dx=dx, dt=dt, steps=100\n",
        ").plot_evolution_outcome(\"2dRD_spatial.png\", n_steps=200)"
      ],
      "execution_count": 0,
      "outputs": []
    },
    {
      "cell_type": "markdown",
      "metadata": {
        "id": "wYZGmu3iiLbq",
        "colab_type": "text"
      },
      "source": [
        "**Results from *Degenerate State*'s blog**\n",
        "\n",
        "[![reaction](http://www.degeneratestate.org/static/turing-patterns/2dRD_spatial.png)](http://www.degeneratestate.org/static/turing-patterns/2dRD_spatial.gif)"
      ]
    },
    {
      "cell_type": "markdown",
      "metadata": {
        "collapsed": true,
        "id": "d8gQJNNDiLbr",
        "colab_type": "text"
      },
      "source": [
        "## Similar Systems \n",
        "\n",
        "Turing patterns are only one part of pattern generation from non-linear PDEs. Given we have the tools to explore these systems, it is worth looking at another simple system in which pattern formation occurs: [the Gray-Scott equations](https://groups.csail.mit.edu/mac/projects/amorphous/GrayScott/). As described in the paper [Complex Patterns in a Simple System](http://www.staff.science.uu.nl/~frank011/Classes/complexity/Literature/Pearson.pdf), for an interesting set of initial conditions the Gray-Scott equations result in a range complex patterns being formed. \n",
        "\n",
        "While these equations _are_ reaction-diffusion equations, the patterns that end up being formed are not from Turing instabilities. Instead they come from the initial conditions of the system: a small region in the centre of the region is perturbed. As this perturbation spreads out, strange patterns are formed. \n",
        "\n",
        "To visualise it, we just need to pass another initialisation function of our previous class, and put in new reaction equations. The parameters for the interesting systems are taken from [here](http://www.aliensaint.com/uo/java/rd/). I'm not currently aware of any theory that gives a full explanation of these patterns. "
      ]
    },
    {
      "cell_type": "code",
      "metadata": {
        "id": "z4dPghDfiLbr",
        "colab_type": "code",
        "colab": {}
      },
      "source": [
        "def gs_initialiser(shape):\n",
        "        a = np.ones(shape)\n",
        "        b = np.zeros(shape)\n",
        "        centre = int(shape[0] / 2)\n",
        "        \n",
        "        a[centre-20:centre+20,centre-20:centre+20] = 0.5\n",
        "        b[centre-20:centre+20,centre-20:centre+20] = 0.25\n",
        "        \n",
        "        a += np.random.normal(scale=0.05, size=shape)\n",
        "        b += np.random.normal(scale=0.05, size=shape)\n",
        "        \n",
        "        return a,b \n",
        "\n",
        "# interesting parameters taken from http://www.aliensaint.com/uo/java/rd/\n",
        "params = [\n",
        "    [0.16, 0.08, 0.035, 0.065], \n",
        "    [0.14, 0.06, 0.035, 0.065], \n",
        "    [0.16, 0.08, 0.06, 0.062], \n",
        "    [0.19, 0.05, 0.06, 0.062], \n",
        "    [0.16, 0.08, 0.02, 0.055], \n",
        "    [0.16, 0.08, 0.05, 0.065], \n",
        "    [0.16, 0.08, 0.054, 0.063], \n",
        "    [0.16, 0.08, 0.035, 0.06]\n",
        "]\n",
        "\n",
        "for i, param in enumerate(params):\n",
        "    \n",
        "    Da, Db, f, k = param\n",
        "    \n",
        "    def Ra(a,b): return - a*b*b + f*(1-a)\n",
        "    def Rb(a,b): return + a*b*b - (f+k)*b\n",
        "\n",
        "    width = 200\n",
        "    dx = 1\n",
        "    dt = 1\n",
        "\n",
        "    TwoDimensionalRDEquations(\n",
        "        Da, Db, Ra, Rb,\n",
        "        initialiser=gs_initialiser,\n",
        "        width=width, height=width, \n",
        "        dx=dx, dt=dt, steps=200\n",
        "    ).plot_evolution_outcome(\"gs_{}.png\".format(i), n_steps=100)"
      ],
      "execution_count": 0,
      "outputs": []
    },
    {
      "cell_type": "markdown",
      "metadata": {
        "id": "2huY29eBiLbt",
        "colab_type": "text"
      },
      "source": [
        "**Results from *Degenerate State*'s blog**\n",
        "\n",
        "\n",
        "[![reaction](http://www.degeneratestate.org/static/turing-patterns/gs_0.png)](http://www.degeneratestate.org/static/turing-patterns/gs_0.gif)\n",
        "\n",
        "[![reaction](http://www.degeneratestate.org/static/turing-patterns/gs_1.png)](http://www.degeneratestate.org/static/turing-patterns/gs_1.gif)\n",
        "\n",
        "[![reaction](http://www.degeneratestate.org/static/turing-patterns/gs_2.png)](http://www.degeneratestate.org/static/turing-patterns/gs_2.gif)\n",
        "\n",
        "[![reaction](http://www.degeneratestate.org/static/turing-patterns/gs_3.png)](http://www.degeneratestate.org/static/turing-patterns/gs_3.gif)\n",
        "\n",
        "[![reaction](http://www.degeneratestate.org/static/turing-patterns/gs_4.png)](http://www.degeneratestate.org/static/turing-patterns/gs_4.gif)\n",
        "\n",
        "[![reaction](http://www.degeneratestate.org/static/turing-patterns/gs_5.png)](http://www.degeneratestate.org/static/turing-patterns/gs_5.gif)\n",
        "\n",
        "[![reaction](http://www.degeneratestate.org/static/turing-patterns/gs_6.png)](http://www.degeneratestate.org/static/turing-patterns/gs_6.gif)\n",
        "\n",
        "[![reaction](http://www.degeneratestate.org/static/turing-patterns/gs_7.png)](http://www.degeneratestate.org/static/turing-patterns/gs_7.gif)"
      ]
    },
    {
      "cell_type": "markdown",
      "metadata": {
        "id": "Wdpw3MBwiLbt",
        "colab_type": "text"
      },
      "source": [
        "## Conclusion\n",
        "\n",
        "It's been interesting to play with these non-linear systems. One of the main challenges I've found with looking at them is how you find \"interesting\" parameters. I have some ideas about how we might search for these automatically, but that will have to wait for another post. \n",
        "\n",
        "The complexity that can arise from these simple systems surprised me at fist, but it [has been shown](http://schulmanlab.jhu.edu/papers/reaction-diffusion-ca-journal-version.pdf) that it is possible to encode cellular automata in reaction diffusion systems. This suggests that the patterns formed by reaction-diffusion systems can be as complex as those produced by any Turing-complete system, and that any attempt to provide a quantitative explanation for their full behaviour will eventually run into some undecidable statement. \n",
        "\n",
        "And with that connection between Turing's work on reaction-diffusion equations and his more well known work on computability, I think it's time to end this post.\n",
        "\n",
        "## Code\n",
        "This post was created from a jupyter notebook. You can find it [here](https://github.com/ijmbarr/turing-patterns)."
      ]
    }
  ]
}